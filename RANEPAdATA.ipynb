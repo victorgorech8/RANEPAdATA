{
 "cells": [
  {
   "cell_type": "markdown",
   "id": "bffa9762-db8a-4f10-9e2a-36f2dcfe250d",
   "metadata": {},
   "source": [
    "# <center><font color='aqua'>Типовые разноуровневые практические задачи и задания по теме 1.6</font> "
   ]
  },
  {
   "cell_type": "markdown",
   "id": "1aedd717-c84d-4a10-b6ac-358329e9fe28",
   "metadata": {},
   "source": [
    "## <font color='lime'>Типовая задача 1</font> "
   ]
  },
  {
   "cell_type": "markdown",
   "id": "f981a40d-39b8-45b4-973b-dda67982fadd",
   "metadata": {},
   "source": [
    "<p align='justify'>Используя данные о пассажирских перевозках (источник данных:<a href='https://www.kaggle.com/vitaliymalcev/russian-passenger-air-service-20072020'> \n",
    "https://www.kaggle.com/vitaliymalcev/russian-passenger-air-service-20072020</a>), постройте \n",
    "столбчатые диаграммы для пяти самых крупных российских аэропортов (по \n",
    "пассажиропотоку) по месяцам. Сделайте выводы. "
   ]
  },
  {
   "cell_type": "markdown",
   "id": "60c39933-395e-4e0e-8bc5-1981d15b9d56",
   "metadata": {},
   "source": [
    "<font color='red'>Solve:</font> "
   ]
  },
  {
   "cell_type": "markdown",
   "id": "d83ae13d-f71a-4e2a-860c-e628b906d55f",
   "metadata": {},
   "source": [
    "Сперва установим библиотеки через терминал следующими командами:"
   ]
  },
  {
   "cell_type": "code",
   "execution_count": null,
   "id": "ff67352b-1c57-4f25-88e5-cf6320c0392b",
   "metadata": {},
   "outputs": [],
   "source": [
    "!pip install pandas # установили для работых с DataFrame\n",
    "!pip install matplotlib #установлии для работы с диаграммами \n",
    "!pip install openpyxl  # установили для работы с файлами \n",
    "!pip install Jinja2 # установили для оформления таблиц"
   ]
  },
  {
   "cell_type": "markdown",
   "id": "2c076f33-cc99-4288-90f3-a81c8102c9aa",
   "metadata": {},
   "source": [
    "Теперь сам код решения"
   ]
  },
  {
   "cell_type": "code",
   "execution_count": null,
   "id": "d37df988-dc07-43c0-a7ed-b8046479cb49",
   "metadata": {},
   "outputs": [],
   "source": [
    "import pandas as pd \n",
    "import matplotlib.pyplot as plt\n",
    "# сделали DataFrame из исходного файла  исходного файла CSV\n",
    "df = pd.read_csv(\"C:/Users/Виктор/Downloads/archive/russian_passenger_air_service_2.csv\") \n",
    "# массив названия всех месяцев (соответствуют одноименным столбцам в df)\n",
    "month=['January', 'February', 'March', 'April', 'May', 'June', 'July', 'August', 'September', 'October', 'November', 'December']\n",
    "# сгруппировали строки по всем месяцам и просуммировали значения для каждого аэропорта за каждый месяц\n",
    "df2=df.groupby(['Airport name'])[month]. sum().reset_index()\n",
    "# для каждого аэропорта просуммировали значеня за все месяцы\n",
    "df3 = df2[month].sum(axis = 1) \n",
    "# сделали новый DataFrame из df3 и столбца наименований аэропортов из \n",
    "# прошлых DataFrame (наименования и количество соотновится правльино)\n",
    "df4 = pd.concat([df2['Airport name'], df3], axis=1)\n",
    "# отсортировали прошлый DataFrame по убыванию\n",
    "df5=df4.sort_values(by=[0], ascending=False)\n",
    "# взяли первые пять наименовани аэропортов из прошлого DataFrame\n",
    "vl=df5['Airport name'].head(5).value_counts ().index\n",
    "# сократили прошлый DataFrame на только те строки, которые содержат наименование аэропортов из массива выше\n",
    "df6=df2.loc[df2['Airport name'].isin([vl[0],vl[1],vl[2],vl[3],vl[4]])]\n",
    "# выводим столбчатые диаграммы количества перелетов в 5ти самых популярыных аэропортах для каждого месяца\n",
    "for mou in month:\n",
    "    df6.plot(kind='bar',x='Airport name', y=mou)\n",
    "    \n",
    "\n",
    "\n"
   ]
  },
  {
   "cell_type": "markdown",
   "id": "ade79f96-8736-4ba7-88ba-685bd19033f3",
   "metadata": {},
   "source": [
    "## <font color='lime'>Типовая задача 2</font> "
   ]
  },
  {
   "cell_type": "markdown",
   "id": "3a754766-8224-4b5f-8b01-4231a7c0551b",
   "metadata": {},
   "source": [
    "<p align='justify'>Используя данные о самоубийствах в мире (источник данных:<a href='https://www.kaggle.com/russellyates88/suicide-rates-overview-1985-to-2016'> \n",
    "https://www.kaggle.com/russellyates88/suicide-rates-overview-1985-to-2016</a>) постройте \n",
    "круговые диаграммы о самоубийствах для двух вами выбранных стран по всем \n",
    "имеющимся годам (для женщин и мужчин отдельно, круговая диаграмма строится по \n",
    "процентному соотношению возрастов). "
   ]
  },
  {
   "cell_type": "markdown",
   "id": "11209526-432e-42ff-ba1d-7046b49a6b1b",
   "metadata": {},
   "source": [
    "<font color='red'>Solve:</font> "
   ]
  },
  {
   "cell_type": "code",
   "execution_count": null,
   "id": "cdd53011-e275-4e57-98fd-e1c2bb530661",
   "metadata": {},
   "outputs": [],
   "source": [
    "import random # импортировали встроенную библиотеку\n",
    "import pandas as pd \n",
    "# сделали DataFrame из исходного файла  исходного файла CSV\n",
    "df = pd.read_csv(\"C:/Users/Виктор/Downloads/archive (1)/master.csv\")\n",
    "# записали в массив уникальыне названия стран из DataFrame\n",
    "ar=df.country.unique()\n",
    "# выбрали одну страну из ar\n",
    "c1=random.choice(ar)\n",
    "# сделали ar list'ом\n",
    "ar = list(ar)\n",
    "# удалили из ar страну с наименованием c1\n",
    "ar.remove(c1)\n",
    "# из измененного массива ar выбарлии еще одну страну\n",
    "c2=random.choice(ar)\n",
    "# оставили в df строки содержащие только страну c1 и с2\n",
    "df=df.loc[df['country'].isin([c1, c2])]\n",
    "# сделали новый DataFrame, содержащий только женщин\n",
    "dff=df.loc[df['sex'].isin(['female'])]\n",
    "# сделали новый DataFrame, содержащий только мужчин\n",
    "dfm=df.loc[df['sex'].isin(['male'])]\n",
    "# записали в массив уникальыне названия годов из DataFrame\n",
    "ar1=df.year.unique()\n",
    "# записали в массив уникальыне названия возрастов из DataFrame\n",
    "ar2=df.age.unique()\n",
    "for y in ar1:\n",
    "    #делаем новые DataFrame с только конкретным годом (из dff и  dfm)\n",
    "    dff1=dff.loc[dff['year'].isin([y])]\n",
    "    dfm1=dfm.loc[dfm['year'].isin([y])]\n",
    "    #делаем новые DataFrame с только конкретным странами (из dff1 и dfm1)\n",
    "    dff1c1=dff1.loc[dff1['country'].isin([c1])]\n",
    "    dff1c2=dff1.loc[dff1['country'].isin([c2])]\n",
    "    dfm1c1=dfm1.loc[dfm1['country'].isin([c1])]\n",
    "    dfm1c2=dfm1.loc[dfm1['country'].isin([c2])]\n",
    "    # группируем DataFrame выше по возрасту и считаем количество в каждой группе\n",
    "    dff1c1=dff1c1.groupby(['age']).size()\n",
    "    dff1c2=dff1c2.groupby(['age']).size()\n",
    "    dfm1c1=dff1c1.groupby(['age']).size()\n",
    "    dfm1c2=dff1c2.groupby(['age']).size()\n",
    "   # делаем диаграммы и выводим их\n",
    "    dff1c1.plot(kind='pie', y='age',title=f'Female in {c1} in {y}')\n",
    "    plt.show()\n",
    "    \n",
    "    dfm1c1.plot(kind='pie', y='age',title=f'Male in {c1} in {y}')\n",
    "    plt.show()\n",
    "\n",
    "    dff1c2.plot(kind='pie', y='age',title=f'Female in {c2} in {y}')\n",
    "    plt.show()\n",
    "\n",
    "    dfm1c2.plot(kind='pie', y='age',title=f'Male in {c2} in {y}')\n",
    "    plt.show()\n",
    "\n",
    "\n",
    "    \n",
    "\n",
    "    \n",
    "    \n"
   ]
  },
  {
   "cell_type": "markdown",
   "id": "13197ab9-f1d8-406b-9639-a875e13143a9",
   "metadata": {},
   "source": [
    "## <font color='lime'>Типовая задача 3</font> "
   ]
  },
  {
   "cell_type": "markdown",
   "id": "d1d6a99c-6491-40e0-b9da-34445aade02c",
   "metadata": {},
   "source": [
    "<p align='justify'>Импортируйте данные из файла Excel (источник данных:<a href='https://drive.google.com/open?id=1l0My0ZcrEF5_kpEWajQULEqgF7Suvz_l'>\n",
    "https://drive.google.com/open?id=1l0My0ZcrEF5_kpEWajQULEqgF7Suvz_l</a>). Вычислите\n",
    "матрицу коэффициентов корреляции между указанными признаками. Используйте\n",
    "инструменты Python для визуализации матрицы корреляций. Выберите признаки, между\n",
    "которыми существует наиболее тесная взаимосвязь. </p>"
   ]
  },
  {
   "cell_type": "markdown",
   "id": "a61927cf-7ee2-4982-9302-e13b0b63267e",
   "metadata": {},
   "source": [
    "<font color='red'>Solve:</font> "
   ]
  },
  {
   "cell_type": "code",
   "execution_count": null,
   "id": "cf0aa636-6127-4709-8a5f-31746d960f7d",
   "metadata": {},
   "outputs": [],
   "source": [
    "import pandas as pd # импортируем библиотеку\n",
    "# сделали DataFrame из исходного файла  исходного файла CSV\n",
    "df = pd.read_excel(\"C:/Users/Виктор/Downloads/Dataset.xlsx\")\n",
    "# сделали новый DataFrame из старого, просто удалили столбец с названиями регионов\n",
    "ndf = df.drop('Unnamed: 0', axis= 1 )\n",
    "# средствами pandas сделали DataFrame, являющийся матрицей корреляции (по умолчанию идет метод Пирсона)\n",
    "df2=ndf.corr()\n",
    "# выводим полученынй DataFrame с применением стиля \n",
    "display(df2.style.background_gradient(cmap='coolwarm'))\n",
    "f=-1\n",
    "# массив названий всех столбцов DataFrame\n",
    "vl=list(df2.columns.values)\n",
    "# проходимся по всем ячейкам DataFrame, которые выше диагональный линии, исходящей из [0][0]\n",
    "# если знчения более 0.75, то выводим \n",
    "for i in vl:\n",
    "    f=f+1\n",
    "    for j in range(0,f+1):\n",
    "        if (df2[i][j]>=0.75):\n",
    "            print(f\"У этого показателя #{i}# хорошая корреляция с этим #{vl[j]}#: {df2[i][j]}\")\n",
    "\n",
    "\n"
   ]
  },
  {
   "cell_type": "markdown",
   "id": "fad4be09",
   "metadata": {},
   "source": [
    "# <center><font color='aqua'>Типовые разноуровневые практические задачи и задания по теме 2.1</font> "
   ]
  },
  {
   "cell_type": "markdown",
   "id": "a76cde06",
   "metadata": {},
   "source": [
    "## <font color='lime'>Типовая задача 1</font> "
   ]
  },
  {
   "cell_type": "markdown",
   "id": "3de0b623",
   "metadata": {},
   "source": [
    "<p align='justify'> Используя официальные ресурсы ФСГС (URL:<a href='http://www.gks.ru'> http://www.gks.ru</a>) сформируйте\n",
    "массив данных по признакам для всех субъектов РФ за 2021 г.:\n",
    "\n",
    "|           |              |\n",
    "|-----------|--------------|\n",
    "|v0|Название региона|\n",
    "| v1         | ВРП на душу населения, тыс. руб.  | \n",
    "| v2         | Инвестиции в основной капитал, млн. руб. | \n",
    "| v3        | Общая протяженность дорог, км. | \n",
    "| v4         | Численность занятых в среднем за год, чел. | \n",
    "| v5         | Число зарегистрированных преступлений на 100 000 человек населения  | \n",
    "| v6         | Число малых предприятий, ед. | \n",
    "| v7         | Стоимость основных фондов, млн. руб. | \n",
    "| v8         | Среднедушевые денежные доходы населения, руб. | \n",
    "| v9         | Объем инновационных товаров, работ, услуг, млн. руб. | \n",
    "| v10         | Инновационная активность организаций, % | \n",
    "| v11         | Среднемесячная номинальная начисленная заработная плата, руб. | \n",
    "| v12         | Степень износа основных фондов, % | \n",
    "| v13         | Заболеваемость на 1000 человек населения | \n",
    "| v14         | Выпуск квалифицированных рабочих и служащих, тыс. чел. | \n",
    "| v15         | Выпуск специалистов среднего звена, тыс. чел. | \n",
    "| v16         | Выпуск бакалавров, специалистов, магистров, тыс. чел | \n",
    "| v17         | Удельный вес сельского населения, % | \n",
    "| v18         | Средний размер назначенных пенсий, руб. | \n",
    "| v19         | Численность безработных, тыс. чел  | \n",
    "| v20         | Оборот розничной торговли на душу населения, тыс. руб. | \n",
    "\n",
    "Задайте тип каждой переменной.\n",
    "\n",
    "Сгенерируйте новые переменные:\n",
    "- Удельный вес городского населения, %\n",
    "- Фондовооруженность занятого населения.\n",
    "- Объем инвестиций на 1 предприятие.\n",
    "\n",
    "Рассчитайте описательные статистики по каждой переменной."
   ]
  },
  {
   "cell_type": "markdown",
   "id": "63985e93",
   "metadata": {},
   "source": [
    "<font color='red'>Solve:</font> "
   ]
  },
  {
   "cell_type": "code",
   "execution_count": null,
   "id": "46715be2",
   "metadata": {},
   "outputs": [],
   "source": [
    "import pandas as pd \n",
    "import matplotlib.pyplot as plt\n",
    "# сделали DataFrame из исходного файла  исходного файла CSV\n",
    "df = pd.read_excel(\"C:/Users/Виктор/Downloads/Dataset.xlsx\")\n",
    "# добавили нвоые столбцы из условия\n",
    "df[ 'Удельный вес городского населения, %'] ='NAN'\n",
    "df['Фондовооруженность занятого населения']='NAN' # данные не существуют в pool'е сайта на пряму\n",
    "df['Объем инвестиций на 1 предприятие']='NAN' # данные не существуют в pool'е сайта на пряму\n",
    "# заполнили новый столбец\n",
    "for i in range(0,df.shape[0]):\n",
    "   df[ 'Удельный вес городского населения, %'][i]=100 -df[ 'УДЕЛЬНЫЙ ВЕС СЕЛЬСКОГО НАСЕЛЕНИЯ'][i]\n",
    "# сделали массив векторов из значений характеристик для каждого субъекта\n",
    "vlob=[]\n",
    "for i in range(0,df.shape[0]):\n",
    "   row = df.iloc[i]\n",
    "   row_as_array = row.to_numpy()\n",
    "   vlob.append(row_as_array)   \n",
    "\n",
    "# производим описательную статистику по каждой переменной \n",
    "vl=list(df2.columns.values)\n",
    "vl.pop(0)\n",
    "for i in vl:\n",
    "   df.plot(kind='bar',x='Unnamed: 0', y=i)\n",
    "   plt.show()"
   ]
  },
  {
   "cell_type": "markdown",
   "id": "8dddb8e1",
   "metadata": {},
   "source": [
    "## <font color='lime'>Типовая задача 2</font> "
   ]
  },
  {
   "cell_type": "markdown",
   "id": "e28c5b9f",
   "metadata": {},
   "source": [
    "<p align='justify'>Напишите код на Python для парсинга данных о турнирной таблице футбольной\n",
    "премьер-лиге России (<a href='https://premierliga.ru/tournaments/championship/tournament-table/'>https://premierliga.ru/tournaments/championship/tournament-table/</a>)."
   ]
  },
  {
   "cell_type": "markdown",
   "id": "2eadb760",
   "metadata": {},
   "source": [
    "<font color='red'>Solve:</font> "
   ]
  },
  {
   "cell_type": "markdown",
   "id": "596f3c48",
   "metadata": {},
   "source": [
    "Сперва установим библиотеки через терминал следующей командой:"
   ]
  },
  {
   "cell_type": "code",
   "execution_count": null,
   "id": "4abc4f78",
   "metadata": {},
   "outputs": [],
   "source": [
    "!pip install BeautifulSoup4\n",
    "!pip install Requests\n",
    "!pip install pandas\n",
    "!pip install lxml\n",
    "!pip install selenium\n"
   ]
  },
  {
   "cell_type": "markdown",
   "id": "0779153e",
   "metadata": {},
   "source": [
    "Теперь код самого решения:"
   ]
  },
  {
   "cell_type": "code",
   "execution_count": null,
   "id": "8a89e87f",
   "metadata": {},
   "outputs": [],
   "source": [
    "# програма очень долгая- около 40 минут. И сайт обычно блокирует запросы от сюда через какое- то время\n",
    "from selenium.webdriver.common.by import By\n",
    "import time\n",
    "import requests\n",
    "from bs4 import BeautifulSoup\n",
    "import pandas as pd\n",
    "from selenium import webdriver\n",
    "headers={'User-Agent':'Mozilla/5.0'} # такой атрибут нужен, чтобы сайт видел очеловеченность запроса \n",
    "# отправляем запрос с заголовками по нужному адресу\n",
    "req = requests.get(\"https://premierliga.ru/tournament-table/\",headers=headers)\n",
    "# считываем текст HTML-документа\n",
    "soup = BeautifulSoup(req.text, \"html.parser\")\n",
    "# находим все html конструкции <a class='year'>...</a> (опредлим все года, когда проводился ВПР)\n",
    "allNews = soup.findAll('a', class_='year')\n",
    "# создали массивы для записи всех годов и соответствующих им названий соревнования\n",
    "arY=[]\n",
    "arN=[]\n",
    "for data in allNews:\n",
    "    arY.append(data.text) # добавляем только текстовое содержание html-элемента\n",
    "    arN.append(data['data-name-season']) # добавляем только знанчение атрибута data-name-season html-элемента\n",
    "# запускаем сеанс FireFox'а\n",
    "driver = webdriver.Chrome()\n",
    "# переходим по ссылке\n",
    "driver.get('https://premierliga.ru/tournament-table/')\n",
    "# чтобы для программы отображались корректные данные сайта лучше дать прогрузиться ему\n",
    "time.sleep(3)\n",
    "# находим все html конструкции <a data-id-season=...>...</a> (заносим элеманты html ,отвечаюие за \n",
    "#навигацию по годам , когда проводился ВПР)\n",
    "element= driver.find_elements(\"xpath\",'//a[@data-id-season]')\n",
    "\n",
    "j=0\n",
    "allNews12=[]\n",
    "for i in element:\n",
    "    # полная очистка массива\n",
    "    allNews12[:]\n",
    "    # нажимаем на html-элемент, чтобы открыть туры в этом году\n",
    "    driver.execute_script(\"arguments[0].click();\", i)\n",
    "    time.sleep(3)\n",
    "    # считываем текст HTML-документа текущего, после преобразований\n",
    "    soup1=BeautifulSoup(driver.page_source, \"html.parser\")\n",
    "    # находим все html конструкции <a class='tour'>...</a> (опредлим все туры выбранного года)\n",
    "    allNews12 = soup1.findAll('a', class_='tour')\n",
    "    #  записываем соответствующие элементы\n",
    "    element2= driver.find_elements(\"xpath\",'//a[@class=\"tour\"]')\n",
    "    # выводим соответствующий год и название соревнования \n",
    "    print(arY[j])\n",
    "    print(arN[j])\n",
    "    k=0\n",
    "    # прожимаем все туры. Пишем название тура и выводим таблицу, она будет одна на странице данного динамического сайта\n",
    "    for h in element2:\n",
    "        driver.execute_script(\"arguments[0].click();\", h)\n",
    "        time.sleep(3)\n",
    "        print(allNews12[k].text,end=\" \")\n",
    "      \n",
    "        print(pd.read_html(driver.page_source,skiprows=1)[0])\n",
    "        k+=1\n",
    "    j+=1\n",
    "    print(end='\\n')\n",
    "\n"
   ]
  }
 ],
 "metadata": {
  "kernelspec": {
   "display_name": "Python 3 (ipykernel)",
   "language": "python",
   "name": "python3"
  },
  "language_info": {
   "codemirror_mode": {
    "name": "ipython",
    "version": 3
   },
   "file_extension": ".py",
   "mimetype": "text/x-python",
   "name": "python",
   "nbconvert_exporter": "python",
   "pygments_lexer": "ipython3",
   "version": "3.10.11"
  }
 },
 "nbformat": 4,
 "nbformat_minor": 5
}
